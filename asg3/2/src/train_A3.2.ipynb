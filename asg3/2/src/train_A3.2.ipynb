{
 "cells": [
  {
   "cell_type": "code",
   "execution_count": 52,
   "metadata": {},
   "outputs": [
    {
     "ename": "SyntaxError",
     "evalue": "unexpected EOF while parsing (<ipython-input-52-a6778875fc70>, line 28)",
     "output_type": "error",
     "traceback": [
      "\u001b[0;36m  File \u001b[0;32m\"<ipython-input-52-a6778875fc70>\"\u001b[0;36m, line \u001b[0;32m28\u001b[0m\n\u001b[0;31m    for ep in range(num_epochs):\u001b[0m\n\u001b[0m                                ^\u001b[0m\n\u001b[0;31mSyntaxError\u001b[0m\u001b[0;31m:\u001b[0m unexpected EOF while parsing\n"
     ]
    }
   ],
   "source": [
    "import numpy as np\n",
    "from emnist import *\n",
    "import torch\n",
    "import torch.nn as nn\n",
    "import torch.nn.functional as F\n",
    "images_tr, labels_tr = extract_training_samples('letters')\n",
    "images_ts, labels_ts = extract_test_samples('letters')\n",
    "#print(images_tr.shape)\n",
    "def CCE(pred,gt):\n",
    "    return F.cross_entropy()\n",
    "\n",
    "(n,h,w) = images_tr.shape\n",
    "images_tr = images_tr.reshape(n,h*w)\n",
    "images_val = images_tr[99840:,:]\n",
    "labels_val = labels_tr[99840:]\n",
    "num_class = 26\n",
    "# define neural network\n",
    "class olp(nn.Module):\n",
    "    def __init__(self, input_neurons, output_neurons):\n",
    "        nn.Module.__init__(self)\n",
    "        self.fc = nn.Linear(input_neurons, output_neurons)\n",
    "    def forward(self,x):\n",
    "        x = self.fc(x)\n",
    "        x = F.softmax(x)\n",
    "net = olp(h*w,num_class)\n",
    "num_epochs = 100\n",
    "images_tr = torch.tensor(images_tr.astype(float),requires_grad=True)\n",
    "labels_tr = torch.tensor(labels_tr.astype(float),requires_grad=True)\n",
    "images_val = torch.tensor(images_val.astype(float),requires_grad=True)\n",
    "labels_val = torch.tensor(labels_val.astype(float),requires_grad=True)\n",
    "for ep in range(num_epochs):\n",
    "    "
   ]
  },
  {
   "cell_type": "code",
   "execution_count": null,
   "metadata": {},
   "outputs": [],
   "source": []
  },
  {
   "cell_type": "code",
   "execution_count": null,
   "metadata": {},
   "outputs": [],
   "source": []
  }
 ],
 "metadata": {
  "kernelspec": {
   "display_name": "Python 3",
   "language": "python",
   "name": "python3"
  },
  "language_info": {
   "codemirror_mode": {
    "name": "ipython",
    "version": 3
   },
   "file_extension": ".py",
   "mimetype": "text/x-python",
   "name": "python",
   "nbconvert_exporter": "python",
   "pygments_lexer": "ipython3",
   "version": "3.7.4"
  }
 },
 "nbformat": 4,
 "nbformat_minor": 4
}
