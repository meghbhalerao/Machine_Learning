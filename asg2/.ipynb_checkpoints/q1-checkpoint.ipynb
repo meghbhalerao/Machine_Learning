{
 "cells": [
  {
   "cell_type": "code",
   "execution_count": null,
   "metadata": {},
   "outputs": [],
   "source": [
    "import numpy as np\n",
    "from random import random\n",
    "from math import *"
   ]
  },
  {
   "cell_type": "code",
   "execution_count": 22,
   "metadata": {},
   "outputs": [
    {
     "ename": "SyntaxError",
     "evalue": "invalid syntax (<ipython-input-22-51b6e37376cb>, line 1)",
     "output_type": "error",
     "traceback": [
      "\u001b[0;36m  File \u001b[0;32m\"<ipython-input-22-51b6e37376cb>\"\u001b[0;36m, line \u001b[0;32m1\u001b[0m\n\u001b[0;31m    def plot(r,w,d)::\u001b[0m\n\u001b[0m                    ^\u001b[0m\n\u001b[0;31mSyntaxError\u001b[0m\u001b[0;31m:\u001b[0m invalid syntax\n"
     ]
    }
   ],
   "source": [
    "def plot(r,w,d):\n",
    "    x = np.linspace(-r-w/2,2*r + w/2,3000)\n",
    "    # Setting the values of yA\n",
    "    spacing = (3*r + w)/3000\n",
    "    yA = np.zeros(1,3000)\n",
    "    yB = np.zeros(1,3000)\n",
    "    index = 0\n",
    "    for i in x[0:w/spacing]:\n",
    "        yA[index] = 0 + random()*(sqrt((r+w/2)**2 - i**2))\n",
    "        index++\n",
    "    for i in x[w/spacing:2*r/spacing]:\n",
    "        yA[index] = sqrt((r-w/2)**2 - i**2) + random()*(sqrt((r+w/2)**2 - i**2) - sqrt((r-w/2)**2 - i**2))\n",
    "        index++\n",
    "    for i in x[2*r/spacing:2*r/spacing+w]:\n",
    "        yA[index] = 0 + random()*(sqrt((r+w/2)**2 - i**2))\n",
    "        \n",
    "    index = r/spacing\n",
    "    for i in x[r/spacing:r/spacing+w]:\n",
    "        yB[index] = d + random()*(d + sqrt((r+w/2)**2 - i**2))\n",
    "        \n",
    "        \n",
    "        \n",
    "        \n",
    "\n",
    "    \n",
    "        \n",
    "        \n",
    "        \n",
    "        "
   ]
  },
  {
   "cell_type": "code",
   "execution_count": null,
   "metadata": {},
   "outputs": [],
   "source": []
  }
 ],
 "metadata": {
  "kernelspec": {
   "display_name": "Python 3",
   "language": "python",
   "name": "python3"
  },
  "language_info": {
   "codemirror_mode": {
    "name": "ipython",
    "version": 3
   },
   "file_extension": ".py",
   "mimetype": "text/x-python",
   "name": "python",
   "nbconvert_exporter": "python",
   "pygments_lexer": "ipython3",
   "version": "3.7.3"
  }
 },
 "nbformat": 4,
 "nbformat_minor": 4
}
